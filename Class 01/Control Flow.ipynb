{
 "cells": [
  {
   "cell_type": "markdown",
   "metadata": {},
   "source": [
    "# Control Flow : Conditional Statements\n",
    "`if, else, elif`\n",
    "\n",
    "\n",
    "    if (test expression):\n",
    "        statements\n",
    "    else:\n",
    "        statements\n",
    "            \n",
    "![if else](./images/ifelse.jpg)            "
   ]
  },
  {
   "cell_type": "markdown",
   "metadata": {},
   "source": [
    "<img src=\"./images/if_else_flowchart.jpg\" width=300>"
   ]
  },
  {
   "cell_type": "code",
   "execution_count": 2,
   "metadata": {},
   "outputs": [
    {
     "name": "stdout",
     "output_type": "stream",
     "text": [
      "Yay Yay!\n",
      "Let's Party!\n"
     ]
    }
   ],
   "source": [
    "marks = 80\n",
    "\n",
    "if marks > 70:\n",
    "    print(\"Yay Yay!\")\n",
    "    print(\"Let's Party!\")\n",
    "    \n",
    "else:\n",
    "    print(\"Work Hard next time\")\n"
   ]
  },
  {
   "cell_type": "code",
   "execution_count": 9,
   "metadata": {},
   "outputs": [
    {
     "name": "stdout",
     "output_type": "stream",
     "text": [
      "70\n",
      "Work Hard next time\n",
      "This is always printed!\n"
     ]
    }
   ],
   "source": [
    "marks = int(input())\n",
    "\n",
    "if marks > 70:\n",
    "    print(\"Yay Yay!\")\n",
    "    print(\"Let's Party!\")\n",
    "    \n",
    "else:\n",
    "    print(\"Work Hard next time\")\n",
    "\n",
    "print(\"This is always printed!\")\n"
   ]
  },
  {
   "cell_type": "code",
   "execution_count": 10,
   "metadata": {},
   "outputs": [],
   "source": [
    "## Indentation is Important!"
   ]
  },
  {
   "cell_type": "code",
   "execution_count": null,
   "metadata": {},
   "outputs": [],
   "source": [
    "marks = 90\n",
    "if marks > 80:\n",
    "    print(\"inside 80 if\")\n",
    "\n",
    "if marks > 70:\n",
    "    print(\"inside 70 if\")\n",
    "\n",
    "else:\n",
    "    print(\"inside else\")"
   ]
  },
  {
   "cell_type": "code",
   "execution_count": 14,
   "metadata": {},
   "outputs": [
    {
     "name": "stdout",
     "output_type": "stream",
     "text": [
      "inside 80 if\n"
     ]
    }
   ],
   "source": [
    "marks = 90\n",
    "if marks > 80:\n",
    "    print(\"inside 80 if\")\n",
    "\n",
    "elif marks > 70:\n",
    "    print(\"inside 70 if\")\n",
    "\n",
    "else:\n",
    "    print(\"inside else\")"
   ]
  },
  {
   "cell_type": "code",
   "execution_count": 26,
   "metadata": {},
   "outputs": [
    {
     "name": "stdout",
     "output_type": "stream",
     "text": [
      "its a sunny day\n",
      "It may rain\n"
     ]
    }
   ],
   "source": [
    "# Standalone \n",
    "temperature = 20\n",
    "winds = True\n",
    "if temperature > 15:\n",
    "    print(\"its a sunny day\")\n",
    "\n",
    "if winds:\n",
    "    print(\"It may rain\")\n",
    "    \n",
    "if temperature< 0:\n",
    "    print(\"its freezing\")"
   ]
  },
  {
   "cell_type": "code",
   "execution_count": 25,
   "metadata": {},
   "outputs": [
    {
     "name": "stdout",
     "output_type": "stream",
     "text": [
      "its a sunny day\n"
     ]
    }
   ],
   "source": [
    "temperature = 20\n",
    "winds = True\n",
    "\n",
    "if temperature > 15:\n",
    "    print(\"its a sunny day\")\n",
    "\n",
    "elif winds:\n",
    "    print(\"It may rain\")\n",
    "    \n",
    "elif temperature< 0:\n",
    "    print(\"its freezing\")"
   ]
  },
  {
   "cell_type": "markdown",
   "metadata": {},
   "source": [
    "## Nested If else\n",
    "We can have a `if...elif...else` statement inside another `if...elif...else` statement. This is called nesting."
   ]
  },
  {
   "cell_type": "code",
   "execution_count": 106,
   "metadata": {},
   "outputs": [
    {
     "name": "stdout",
     "output_type": "stream",
     "text": [
      "9\n",
      "Enter money in lacs9\n",
      "do whatever you want\n"
     ]
    }
   ],
   "source": [
    "mood = input()\n",
    "money = int(input(\"Enter money in lacs\"))\n",
    "if mood == \"shopping\":\n",
    "    if money > 5:\n",
    "        print(\"Buy a Car\")\n",
    "    else:\n",
    "        print(\"Buy a Bike\")\n",
    "\n",
    "elif mood == \"travelling\":\n",
    "    if money > 1:\n",
    "        print(\"book a 5 star hotel\")\n",
    "    else:\n",
    "        print(\"book a 3 star hotel\")\n",
    "    print(\"go to a hillstation\")\n",
    "    \n",
    "else:\n",
    "    print(\"do whatever you want\")"
   ]
  },
  {
   "cell_type": "markdown",
   "metadata": {},
   "source": [
    "## Question -  Python program to find the largest element among three Numbers"
   ]
  },
  {
   "cell_type": "code",
   "execution_count": null,
   "metadata": {},
   "outputs": [],
   "source": [
    "# Read 3 Numbers and Find Largest of 3 numbers\n"
   ]
  },
  {
   "cell_type": "code",
   "execution_count": 30,
   "metadata": {},
   "outputs": [
    {
     "name": "stdout",
     "output_type": "stream",
     "text": [
      "11\n",
      "12\n",
      "15\n",
      "largest is c 15\n"
     ]
    }
   ],
   "source": [
    "a = int(input())\n",
    "b = int(input())\n",
    "c = int(input())\n",
    "\n",
    "if a > b and a > c:\n",
    "    print(\"largest is a \",a)\n",
    "\n",
    "elif b > c and b > a:\n",
    "    print(\"largest is b\",b)\n",
    "\n",
    "else:\n",
    "    print(\"largest is c\",c)\n"
   ]
  },
  {
   "cell_type": "markdown",
   "metadata": {},
   "source": [
    "# Control Flow : Iterations/Loops\n",
    "\n",
    "- `while loop`\n",
    "- `for loop`\n",
    "    \n",
    "    \n",
    "    while (test-expression):\n",
    "        body of while\n",
    "\n",
    "\n",
    "\n",
    "![loops](https://media.giphy.com/media/ieaUdBJJC19uw/giphy-downsized.gif)\n"
   ]
  },
  {
   "cell_type": "code",
   "execution_count": 37,
   "metadata": {},
   "outputs": [
    {
     "name": "stdout",
     "output_type": "stream",
     "text": [
      "Keep running & burning  6\n",
      "Keep running & burning  7\n",
      "Keep running & burning  8\n",
      "Keep running & burning  9\n",
      "Keep running & burning  10\n"
     ]
    }
   ],
   "source": [
    "calories_to_burn = 10\n",
    "\n",
    "#starting point\n",
    "calories = 5\n",
    "\n",
    "\n",
    "# while (stopping criteria)\n",
    "while(calories < calories_to_burn):\n",
    "    print(\"Keep running & burning \",calories + 1)\n",
    "    #update condition (must be inside the loop)\n",
    "    calories = calories + 1\n"
   ]
  },
  {
   "cell_type": "code",
   "execution_count": 44,
   "metadata": {},
   "outputs": [
    {
     "name": "stdout",
     "output_type": "stream",
     "text": [
      "forever\n",
      "forever\n",
      "forever\n",
      "forever\n",
      "forever\n"
     ]
    }
   ],
   "source": [
    "x = 0\n",
    "while True:\n",
    "    print(\"forever\")\n",
    "    x = x + 1\n",
    "    \n",
    "    if x == 5:\n",
    "        break\n",
    "        "
   ]
  },
  {
   "cell_type": "code",
   "execution_count": 51,
   "metadata": {},
   "outputs": [
    {
     "name": "stdout",
     "output_type": "stream",
     "text": [
      "hi\n",
      "inside the loop - top\n",
      "out of the loop\n"
     ]
    }
   ],
   "source": [
    "while 1:\n",
    "    print(\"hi\")\n",
    "    print(\"inside the loop - top\")\n",
    "    if 5:\n",
    "        break\n",
    "    print(\"inside the loop - bottom\")\n",
    "        \n",
    "print(\"out of the loop\")"
   ]
  },
  {
   "cell_type": "markdown",
   "metadata": {},
   "source": [
    "**Q- Print all even numbers from 1 to 20**"
   ]
  },
  {
   "cell_type": "markdown",
   "metadata": {},
   "source": [
    "<img src=\"./images/whileloop.jpg\">"
   ]
  },
  {
   "cell_type": "code",
   "execution_count": 54,
   "metadata": {},
   "outputs": [
    {
     "name": "stdout",
     "output_type": "stream",
     "text": [
      "2\n",
      "4\n",
      "6\n",
      "8\n",
      "10\n",
      "12\n",
      "14\n",
      "16\n",
      "18\n",
      "20\n",
      "done\n"
     ]
    }
   ],
   "source": [
    "i = 1\n",
    "while i<=20:\n",
    "    if i%2 == 0:\n",
    "        print(i)\n",
    "    i = i + 1\n",
    "print(\"done\")"
   ]
  },
  {
   "cell_type": "code",
   "execution_count": 67,
   "metadata": {},
   "outputs": [
    {
     "name": "stdout",
     "output_type": "stream",
     "text": [
      "4\n",
      "0\n",
      "1\n",
      "1\n",
      "2\n"
     ]
    }
   ],
   "source": [
    "# Fibonacci Series\n",
    "# 0, 1, 1, 2, 3, 5, 8, 13 ...\n",
    "\n",
    "# Print first N terms of fibonacci series\n",
    "# Time to Try!\n",
    "\n",
    "n = int(input())\n",
    "a = 0\n",
    "b = 1\n",
    "\n",
    "if (n==1):\n",
    "    print(1)\n",
    "elif(n==2):\n",
    "    print(0)\n",
    "    print(1)\n",
    "else:\n",
    "    print(0,1,sep='\\n')\n",
    "    terms = 3\n",
    "    while terms <= n:\n",
    "        c = a + b\n",
    "        print(c)\n",
    "        \n",
    "        #next iteration \n",
    "        a = b\n",
    "        b = c\n",
    "        \n",
    "        #terms\n",
    "        terms = terms + 1"
   ]
  },
  {
   "cell_type": "code",
   "execution_count": 66,
   "metadata": {},
   "outputs": [
    {
     "name": "stdout",
     "output_type": "stream",
     "text": [
      "1\n",
      "0\n"
     ]
    }
   ],
   "source": [
    "# Fibonacci \n",
    "a = 0\n",
    "b = 1\n",
    "c = 0\n",
    "n = int(input())\n",
    "terms = 1\n",
    "while terms <=n:\n",
    "    print(c)\n",
    "    a = b\n",
    "    b = c\n",
    "    c = a + b\n",
    "    terms = terms + 1"
   ]
  },
  {
   "cell_type": "markdown",
   "metadata": {},
   "source": [
    "## For loop\n",
    "    - for in loop"
   ]
  },
  {
   "cell_type": "code",
   "execution_count": 69,
   "metadata": {},
   "outputs": [
    {
     "name": "stdout",
     "output_type": "stream",
     "text": [
      "1\n",
      "2\n",
      "3\n",
      "4\n",
      "5\n",
      "6\n",
      "7\n",
      "8\n",
      "9\n",
      "10\n"
     ]
    }
   ],
   "source": [
    "home = 10\n",
    "for x in range(1,home + 1):\n",
    "    print(x)\n",
    "    \n",
    "# range function (start, end + 1, step)"
   ]
  },
  {
   "cell_type": "code",
   "execution_count": 70,
   "metadata": {},
   "outputs": [
    {
     "name": "stdout",
     "output_type": "stream",
     "text": [
      "1\n",
      "3\n",
      "5\n",
      "7\n",
      "9\n"
     ]
    }
   ],
   "source": [
    "for x in range(1,10,2):\n",
    "    print(x)"
   ]
  },
  {
   "cell_type": "code",
   "execution_count": 72,
   "metadata": {},
   "outputs": [
    {
     "name": "stdout",
     "output_type": "stream",
     "text": [
      "10\n",
      "8\n",
      "6\n",
      "4\n"
     ]
    }
   ],
   "source": [
    "for x in range(10,2,-2):\n",
    "    print(x)"
   ]
  },
  {
   "cell_type": "code",
   "execution_count": 73,
   "metadata": {},
   "outputs": [
    {
     "name": "stdout",
     "output_type": "stream",
     "text": [
      "10\n",
      "8\n",
      "6\n",
      "4\n"
     ]
    }
   ],
   "source": [
    "x = 10\n",
    "while x > 2:\n",
    "    print(x)\n",
    "    x = x - 2"
   ]
  },
  {
   "cell_type": "markdown",
   "metadata": {},
   "source": [
    "### For loop with if-else"
   ]
  },
  {
   "cell_type": "code",
   "execution_count": 78,
   "metadata": {},
   "outputs": [
    {
     "name": "stdout",
     "output_type": "stream",
     "text": [
      "0\n",
      "1\n",
      "2\n",
      "3\n",
      "4\n",
      "5\n",
      "6\n",
      "7\n",
      "8\n",
      "9\n"
     ]
    }
   ],
   "source": [
    "for i in range(10):\n",
    "    print(i)"
   ]
  },
  {
   "cell_type": "code",
   "execution_count": 85,
   "metadata": {},
   "outputs": [
    {
     "name": "stdout",
     "output_type": "stream",
     "text": [
      "blah..\n",
      "blah..\n",
      "blah..\n",
      "blah..\n",
      "blah..\n",
      "blah..\n",
      "7\n",
      "blah..\n",
      "blah..\n",
      "blah..\n",
      "blah..\n",
      "blah..\n",
      "blah..\n",
      "14\n"
     ]
    }
   ],
   "source": [
    "for i in range(1,15):\n",
    "    if i%7==0:\n",
    "        print(i)\n",
    "    else:\n",
    "        print(\"blah..\")"
   ]
  },
  {
   "cell_type": "code",
   "execution_count": null,
   "metadata": {},
   "outputs": [],
   "source": []
  },
  {
   "cell_type": "markdown",
   "metadata": {},
   "source": [
    "### Pattern Printing"
   ]
  },
  {
   "cell_type": "code",
   "execution_count": 91,
   "metadata": {},
   "outputs": [],
   "source": [
    "n = 5\n",
    "\n",
    "\n",
    "# *\n",
    "# **\n",
    "# ***\n",
    "# ****\n",
    "# *****\n",
    "\n",
    "# Observation\n",
    "# 1) Print N lines\n",
    "# 2) ith line has i stars"
   ]
  },
  {
   "cell_type": "code",
   "execution_count": 92,
   "metadata": {},
   "outputs": [
    {
     "name": "stdout",
     "output_type": "stream",
     "text": [
      "5\n",
      "*\n",
      "**\n",
      "***\n",
      "****\n",
      "*****\n"
     ]
    }
   ],
   "source": [
    "n = int(input())\n",
    "\n",
    "#Approach-1\n",
    "for i in range(1,n+1):\n",
    "    print(\"*\"*i)"
   ]
  },
  {
   "cell_type": "code",
   "execution_count": 101,
   "metadata": {},
   "outputs": [
    {
     "name": "stdout",
     "output_type": "stream",
     "text": [
      "*\n",
      "**\n",
      "***\n",
      "****\n",
      "*****\n"
     ]
    }
   ],
   "source": [
    "for i in range(1,n+1):\n",
    "    # Print i stars in ith row\n",
    "    for stars in range(1,i+1):\n",
    "        print(\"*\",end=\"\")\n",
    "    #new line\n",
    "    print(end='\\n')"
   ]
  },
  {
   "cell_type": "code",
   "execution_count": 96,
   "metadata": {},
   "outputs": [
    {
     "name": "stdout",
     "output_type": "stream",
     "text": [
      "hello world,"
     ]
    }
   ],
   "source": [
    "print(\"hello world\",end=\",\")"
   ]
  },
  {
   "cell_type": "code",
   "execution_count": null,
   "metadata": {},
   "outputs": [],
   "source": [
    "# # star pyramid pattern\n",
    "  *\n",
    " ***x\n",
    "*****\n",
    "\n",
    "# 5 Mins "
   ]
  },
  {
   "cell_type": "code",
   "execution_count": 103,
   "metadata": {},
   "outputs": [
    {
     "name": "stdout",
     "output_type": "stream",
     "text": [
      "    *\n",
      "   ***\n",
      "  *****\n",
      " *******\n",
      "*********\n"
     ]
    }
   ],
   "source": [
    "# Print N rows\n",
    "for i in range(1,n+1):\n",
    "    print(\" \"*(n-i),end=\"\")\n",
    "    print(\"*\"*(2*i-1))\n"
   ]
  },
  {
   "cell_type": "markdown",
   "metadata": {},
   "source": [
    "## Questions on Loops\n",
    "\n",
    "#### Q - 1 Given a variable n, calculate the sum of first n numbers.\n",
    "\n",
    "**e.g:**\n",
    "n = 5\n",
    "1 + 2 + 3 + 4 + 5 = 15\n",
    "\n",
    "**e.g** n = 3\n",
    "1 + 2 + 3 = 6"
   ]
  },
  {
   "cell_type": "code",
   "execution_count": 104,
   "metadata": {},
   "outputs": [
    {
     "name": "stdout",
     "output_type": "stream",
     "text": [
      "5\n",
      "15\n"
     ]
    }
   ],
   "source": [
    "n = int(input())\n",
    "s = 0\n",
    "\n",
    "for i in range(1,n+1):\n",
    "    s = s + i\n",
    "\n",
    "print(s)\n"
   ]
  },
  {
   "cell_type": "code",
   "execution_count": null,
   "metadata": {},
   "outputs": [],
   "source": [
    "# Given N - no of inputs,followed by N integers you have to find their sum\n",
    "\n",
    "N = 5\n",
    "11 ,3, 6, 9, 5\n",
    "\n",
    "\n",
    "\n",
    "\n"
   ]
  },
  {
   "cell_type": "code",
   "execution_count": 105,
   "metadata": {},
   "outputs": [
    {
     "name": "stdout",
     "output_type": "stream",
     "text": [
      "5\n",
      "11\n",
      "12\n",
      "1\n",
      "2\n",
      "4\n",
      "30\n"
     ]
    }
   ],
   "source": [
    "n = int(input())\n",
    "total_sum = 0 \n",
    "\n",
    "for times in range(n):\n",
    "    current_no = int(input())\n",
    "    total_sum = total_sum + current_no\n",
    "    \n",
    "print(total_sum)\n"
   ]
  },
  {
   "cell_type": "markdown",
   "metadata": {},
   "source": [
    "#### Q - 2 Given a variable n, find if n is a prime number or not?\n",
    "**Prime Number** - a number having only 2 factors. i.e 1 and the number itself"
   ]
  },
  {
   "cell_type": "code",
   "execution_count": null,
   "metadata": {},
   "outputs": [],
   "source": []
  },
  {
   "cell_type": "code",
   "execution_count": null,
   "metadata": {},
   "outputs": [],
   "source": []
  },
  {
   "cell_type": "code",
   "execution_count": null,
   "metadata": {},
   "outputs": [],
   "source": []
  },
  {
   "cell_type": "code",
   "execution_count": null,
   "metadata": {},
   "outputs": [],
   "source": []
  },
  {
   "cell_type": "code",
   "execution_count": null,
   "metadata": {},
   "outputs": [],
   "source": []
  },
  {
   "cell_type": "code",
   "execution_count": null,
   "metadata": {},
   "outputs": [],
   "source": []
  },
  {
   "cell_type": "code",
   "execution_count": null,
   "metadata": {},
   "outputs": [],
   "source": []
  },
  {
   "cell_type": "code",
   "execution_count": null,
   "metadata": {},
   "outputs": [],
   "source": []
  },
  {
   "cell_type": "code",
   "execution_count": null,
   "metadata": {},
   "outputs": [],
   "source": []
  },
  {
   "cell_type": "code",
   "execution_count": null,
   "metadata": {},
   "outputs": [],
   "source": []
  },
  {
   "cell_type": "code",
   "execution_count": null,
   "metadata": {},
   "outputs": [],
   "source": []
  },
  {
   "cell_type": "code",
   "execution_count": null,
   "metadata": {},
   "outputs": [],
   "source": []
  },
  {
   "cell_type": "code",
   "execution_count": null,
   "metadata": {},
   "outputs": [],
   "source": []
  },
  {
   "cell_type": "code",
   "execution_count": null,
   "metadata": {},
   "outputs": [],
   "source": []
  },
  {
   "cell_type": "code",
   "execution_count": null,
   "metadata": {},
   "outputs": [],
   "source": []
  },
  {
   "cell_type": "markdown",
   "metadata": {},
   "source": [
    "## Break, Continue & Pass\n",
    " - break and continue can be used to alter the normal flow of a loop\n",
    "\n",
    "`break` : used to exit all coming iterations in a loop\n",
    "\n",
    "`continue`  : it just skips the current iteration and moves to the next iteration.\n",
    "\n",
    "`pass` : If you wants to keep a block as empty just write `pass`\n",
    "\n",
    "<img src=\"./images/break_continue.jpg\" width=\"500\">"
   ]
  },
  {
   "cell_type": "code",
   "execution_count": null,
   "metadata": {},
   "outputs": [],
   "source": []
  }
 ],
 "metadata": {
  "kernelspec": {
   "display_name": "Python 3 (ipykernel)",
   "language": "python",
   "name": "python3"
  },
  "language_info": {
   "codemirror_mode": {
    "name": "ipython",
    "version": 3
   },
   "file_extension": ".py",
   "mimetype": "text/x-python",
   "name": "python",
   "nbconvert_exporter": "python",
   "pygments_lexer": "ipython3",
   "version": "3.8.2"
  }
 },
 "nbformat": 4,
 "nbformat_minor": 4
}
